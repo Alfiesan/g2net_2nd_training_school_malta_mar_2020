{
 "cells": [
  {
   "cell_type": "code",
   "execution_count": 1,
   "metadata": {
    "ExecuteTime": {
     "end_time": "2020-02-15T08:54:12.666189Z",
     "start_time": "2020-02-15T08:54:11.364516Z"
    }
   },
   "outputs": [],
   "source": [
    "import os\n",
    "import numpy as np\n",
    "import pandas as pd\n",
    "import sklearn.metrics as metrics\n",
    "from sklearn.ensemble import RandomForestClassifier\n",
    "from sklearn.metrics import classification_report\n",
    "import matplotlib.pyplot as plt\n",
    "from MachineLearningUtils import plot_confustion_matrix, error_rate\n",
    "from sklearn.model_selection import RandomizedSearchCV\n",
    "import pickle\n",
    "from sklearn.metrics import balanced_accuracy_score, precision_score, recall_score, f1_score"
   ]
  },
  {
   "cell_type": "markdown",
   "metadata": {},
   "source": [
    "# import data"
   ]
  },
  {
   "cell_type": "code",
   "execution_count": 2,
   "metadata": {
    "ExecuteTime": {
     "end_time": "2020-02-12T07:29:40.198052Z",
     "start_time": "2020-02-12T07:29:33.615380Z"
    }
   },
   "outputs": [],
   "source": [
    "df_train = pd.read_pickle('../data/df_train.pkl.gzip', compression='gzip')\n",
    "df_test = pd.read_pickle('../data/df_test.pkl.gzip', compression='gzip')"
   ]
  },
  {
   "cell_type": "code",
   "execution_count": 3,
   "metadata": {
    "ExecuteTime": {
     "end_time": "2020-02-12T07:29:40.210017Z",
     "start_time": "2020-02-12T07:29:40.200267Z"
    }
   },
   "outputs": [],
   "source": [
    "df = pd.concat([df_train, df_test])"
   ]
  },
  {
   "cell_type": "code",
   "execution_count": 4,
   "metadata": {
    "ExecuteTime": {
     "end_time": "2020-02-12T07:29:40.218065Z",
     "start_time": "2020-02-12T07:29:40.212299Z"
    }
   },
   "outputs": [
    {
     "data": {
      "text/plain": [
       "(15386, 19)"
      ]
     },
     "execution_count": 4,
     "metadata": {},
     "output_type": "execute_result"
    }
   ],
   "source": [
    "df.shape"
   ]
  },
  {
   "cell_type": "markdown",
   "metadata": {},
   "source": [
    "# Feature Engineer"
   ]
  },
  {
   "cell_type": "markdown",
   "metadata": {},
   "source": [
    "## Drop unnecessary columns"
   ]
  },
  {
   "cell_type": "code",
   "execution_count": 5,
   "metadata": {
    "ExecuteTime": {
     "end_time": "2020-02-12T07:29:40.231683Z",
     "start_time": "2020-02-12T07:29:40.220329Z"
    }
   },
   "outputs": [],
   "source": [
    "df.drop(['receiver_latitude', 'receiver_longitude', 'receiver_elevation_m', 'p_arrival_sample', 'p_travel_sec',\n",
    "         's_arrival_sample', 'source_origin_time', 'source_latitude', 'source_longitude',\n",
    "         'source_depth_km'], axis=1, inplace=True)"
   ]
  },
  {
   "cell_type": "markdown",
   "metadata": {},
   "source": [
    "## Spectral Centroid"
   ]
  },
  {
   "cell_type": "code",
   "execution_count": 6,
   "metadata": {
    "ExecuteTime": {
     "end_time": "2020-02-12T07:29:40.236550Z",
     "start_time": "2020-02-12T07:29:40.233866Z"
    }
   },
   "outputs": [],
   "source": [
    "trace_list = ['E','N','Z']"
   ]
  },
  {
   "cell_type": "code",
   "execution_count": 7,
   "metadata": {
    "ExecuteTime": {
     "end_time": "2020-02-12T07:29:40.244420Z",
     "start_time": "2020-02-12T07:29:40.240366Z"
    }
   },
   "outputs": [],
   "source": [
    "def spectral_centroid(x, samplerate=44100):\n",
    "    magnitudes = np.abs(np.fft.rfft(x)) # magnitudes of positive frequencies\n",
    "    length = len(x)\n",
    "    freqs = np.abs(np.fft.fftfreq(length, 1.0/samplerate)[:length//2+1]) # positive frequencies\n",
    "    return np.sum(magnitudes*freqs) / np.sum(magnitudes) # return weighted mean"
   ]
  },
  {
   "cell_type": "code",
   "execution_count": 8,
   "metadata": {
    "ExecuteTime": {
     "end_time": "2020-02-12T07:29:44.581464Z",
     "start_time": "2020-02-12T07:29:40.247402Z"
    }
   },
   "outputs": [],
   "source": [
    "for tl in trace_list:\n",
    "    df['spectral_centroid_{}'.format(tl)] = df[tl].apply(spectral_centroid)"
   ]
  },
  {
   "cell_type": "markdown",
   "metadata": {},
   "source": [
    "## Degree of rectiliniarity (polarization)"
   ]
  },
  {
   "cell_type": "code",
   "execution_count": 9,
   "metadata": {
    "ExecuteTime": {
     "end_time": "2020-02-12T07:29:46.309422Z",
     "start_time": "2020-02-12T07:29:44.583131Z"
    }
   },
   "outputs": [
    {
     "name": "stderr",
     "output_type": "stream",
     "text": [
      "/opt/anaconda3/lib/python3.7/site-packages/obspy/signal/headers.py:93: FutureWarning: Passing (type, 1) or '1type' as a synonym of type is deprecated; in a future version of numpy, it will be understood as (type, (1,)) / '(1,)type'.\n",
      "  ], align=True)\n"
     ]
    }
   ],
   "source": [
    "from obspy.signal.polarization import flinn"
   ]
  },
  {
   "cell_type": "code",
   "execution_count": 10,
   "metadata": {
    "ExecuteTime": {
     "end_time": "2020-02-12T07:29:51.332858Z",
     "start_time": "2020-02-12T07:29:46.311889Z"
    }
   },
   "outputs": [],
   "source": [
    "df['rect_azimuth'], df['rect_incidence'], df['rect_rectilinearity'],df['rect_planarity'] = zip(*df.apply(lambda x: flinn([x['Z'],x['N'],x['E']]), axis=1))"
   ]
  },
  {
   "cell_type": "markdown",
   "metadata": {},
   "source": [
    "## RMS of frequency amplitude"
   ]
  },
  {
   "cell_type": "code",
   "execution_count": 11,
   "metadata": {
    "ExecuteTime": {
     "end_time": "2020-02-12T07:29:55.747979Z",
     "start_time": "2020-02-12T07:29:51.334784Z"
    }
   },
   "outputs": [],
   "source": [
    "for tl in trace_list:\n",
    "    df['rms_freq_amp_{}'.format(tl)] = df[tl].apply( lambda x: np.sqrt(np.mean(np.square(np.real(np.fft.fft(x))))))"
   ]
  },
  {
   "cell_type": "markdown",
   "metadata": {},
   "source": [
    "## Maximum power of frequency amplitude"
   ]
  },
  {
   "cell_type": "code",
   "execution_count": 12,
   "metadata": {
    "ExecuteTime": {
     "end_time": "2020-02-12T07:29:55.752115Z",
     "start_time": "2020-02-12T07:29:55.749985Z"
    }
   },
   "outputs": [],
   "source": [
    "from scipy import signal"
   ]
  },
  {
   "cell_type": "code",
   "execution_count": 13,
   "metadata": {
    "ExecuteTime": {
     "end_time": "2020-02-12T07:30:22.885881Z",
     "start_time": "2020-02-12T07:29:55.753948Z"
    }
   },
   "outputs": [],
   "source": [
    "for tl in trace_list:\n",
    "    df['max_power_freq_amp_{}'.format(tl)] = df[tl].apply(lambda x: np.sqrt(signal.periodogram(x, 100, 'flattop', scaling='spectrum')[1].max()))"
   ]
  },
  {
   "cell_type": "markdown",
   "metadata": {},
   "source": [
    "## Dominant frequency"
   ]
  },
  {
   "cell_type": "code",
   "execution_count": 14,
   "metadata": {
    "ExecuteTime": {
     "end_time": "2020-02-12T07:30:22.892421Z",
     "start_time": "2020-02-12T07:30:22.888039Z"
    }
   },
   "outputs": [],
   "source": [
    "from obspy.signal.freqattributes import central_frequency_unwindowed"
   ]
  },
  {
   "cell_type": "code",
   "execution_count": 15,
   "metadata": {
    "ExecuteTime": {
     "end_time": "2020-02-12T07:31:08.404806Z",
     "start_time": "2020-02-12T07:30:22.895140Z"
    }
   },
   "outputs": [],
   "source": [
    "for tl in trace_list:\n",
    "    df['dominant_freq_{}'.format(tl)] = df[tl].apply(lambda x: central_frequency_unwindowed(x,fs=100))"
   ]
  },
  {
   "cell_type": "markdown",
   "metadata": {
    "ExecuteTime": {
     "end_time": "2020-02-11T21:53:55.934822Z",
     "start_time": "2020-02-11T21:53:55.920713Z"
    }
   },
   "source": [
    "## Domint Peak in CWT"
   ]
  },
  {
   "cell_type": "code",
   "execution_count": 16,
   "metadata": {
    "ExecuteTime": {
     "end_time": "2020-02-12T07:31:08.409292Z",
     "start_time": "2020-02-12T07:31:08.407196Z"
    }
   },
   "outputs": [],
   "source": [
    "# for tl in trace_list:\n",
    "#     df['dominant_peak_cwt_{}'.format(tl)] = df[tl].apply(lambda x : signal.find_peaks_cwt(x, np.arange(1,10))[0])"
   ]
  },
  {
   "cell_type": "markdown",
   "metadata": {},
   "source": [
    "# Train-Test Split"
   ]
  },
  {
   "cell_type": "code",
   "execution_count": 17,
   "metadata": {
    "ExecuteTime": {
     "end_time": "2020-02-12T07:31:08.431837Z",
     "start_time": "2020-02-12T07:31:08.411605Z"
    }
   },
   "outputs": [],
   "source": [
    "X_train = df.loc[df['trace_id'].isin(df_train['trace_id'])].drop(['label', 'target', 'trace_id', 'E', 'N', 'Z'], axis=1)\n",
    "X_test = df.loc[df['trace_id'].isin(df_test['trace_id']) ].drop(['label', 'target', 'trace_id', 'E', 'N', 'Z'], axis=1)\n",
    "y_train = df_train['target']\n",
    "y_test = df_test['target']"
   ]
  },
  {
   "cell_type": "code",
   "execution_count": 18,
   "metadata": {
    "ExecuteTime": {
     "end_time": "2020-02-12T07:31:08.445567Z",
     "start_time": "2020-02-12T07:31:08.433976Z"
    }
   },
   "outputs": [
    {
     "name": "stdout",
     "output_type": "stream",
     "text": [
      "X_train : \n",
      "snr_db_E                12308\n",
      "snr_db_N                12308\n",
      "snr_db_Z                12308\n",
      "spectral_centroid_E     12308\n",
      "spectral_centroid_N     12308\n",
      "spectral_centroid_Z     12308\n",
      "rect_azimuth            12308\n",
      "rect_incidence          12308\n",
      "rect_rectilinearity     12308\n",
      "rect_planarity          12308\n",
      "rms_freq_amp_E          12308\n",
      "rms_freq_amp_N          12308\n",
      "rms_freq_amp_Z          12308\n",
      "max_power_freq_amp_E    12308\n",
      "max_power_freq_amp_N    12308\n",
      "max_power_freq_amp_Z    12308\n",
      "dominant_freq_E         12308\n",
      "dominant_freq_N         12308\n",
      "dominant_freq_Z         12308\n",
      "dtype: int64\n",
      "\n",
      "Y_train: \n",
      "12308\n",
      "\n",
      "X_test: \n",
      "snr_db_E                3078\n",
      "snr_db_N                3078\n",
      "snr_db_Z                3078\n",
      "spectral_centroid_E     3078\n",
      "spectral_centroid_N     3078\n",
      "spectral_centroid_Z     3078\n",
      "rect_azimuth            3078\n",
      "rect_incidence          3078\n",
      "rect_rectilinearity     3078\n",
      "rect_planarity          3078\n",
      "rms_freq_amp_E          3078\n",
      "rms_freq_amp_N          3078\n",
      "rms_freq_amp_Z          3078\n",
      "max_power_freq_amp_E    3078\n",
      "max_power_freq_amp_N    3078\n",
      "max_power_freq_amp_Z    3078\n",
      "dominant_freq_E         3078\n",
      "dominant_freq_N         3078\n",
      "dominant_freq_Z         3078\n",
      "dtype: int64\n",
      "\n",
      "Y_test: \n",
      "3078\n"
     ]
    }
   ],
   "source": [
    "print('X_train : ')\n",
    "print(X_train.count())\n",
    "print()\n",
    "print('Y_train: ')\n",
    "print(y_train.size)\n",
    "print()\n",
    "print('X_test: ')\n",
    "print(X_test.count())\n",
    "print()\n",
    "print('Y_test: ')\n",
    "print(y_test.size)"
   ]
  },
  {
   "cell_type": "markdown",
   "metadata": {},
   "source": [
    "## Model Column List"
   ]
  },
  {
   "cell_type": "code",
   "execution_count": 34,
   "metadata": {
    "ExecuteTime": {
     "end_time": "2020-02-12T08:18:59.566531Z",
     "start_time": "2020-02-12T08:18:59.562232Z"
    }
   },
   "outputs": [
    {
     "data": {
      "text/plain": [
       "['snr_db_E',\n",
       " 'snr_db_N',\n",
       " 'snr_db_Z',\n",
       " 'spectral_centroid_E',\n",
       " 'spectral_centroid_N',\n",
       " 'spectral_centroid_Z',\n",
       " 'rect_azimuth',\n",
       " 'rect_incidence',\n",
       " 'rect_rectilinearity',\n",
       " 'rect_planarity',\n",
       " 'rms_freq_amp_E',\n",
       " 'rms_freq_amp_N',\n",
       " 'rms_freq_amp_Z',\n",
       " 'max_power_freq_amp_E',\n",
       " 'max_power_freq_amp_N',\n",
       " 'max_power_freq_amp_Z',\n",
       " 'dominant_freq_E',\n",
       " 'dominant_freq_N',\n",
       " 'dominant_freq_Z']"
      ]
     },
     "execution_count": 34,
     "metadata": {},
     "output_type": "execute_result"
    }
   ],
   "source": [
    "list(X_train.columns)"
   ]
  },
  {
   "cell_type": "markdown",
   "metadata": {},
   "source": [
    "# Random Forest Classifier\n",
    "##  Modelling"
   ]
  },
  {
   "cell_type": "code",
   "execution_count": 19,
   "metadata": {
    "ExecuteTime": {
     "end_time": "2020-02-12T07:31:08.449877Z",
     "start_time": "2020-02-12T07:31:08.447819Z"
    }
   },
   "outputs": [],
   "source": [
    "# rf = RandomForestClassifier(max_depth=10, n_estimators=100, max_features=10, verbose=1)\n",
    "# rf.fit(X_train, y_train)\n",
    "# y_pred = rf.predict(X_test)"
   ]
  },
  {
   "cell_type": "code",
   "execution_count": 20,
   "metadata": {
    "ExecuteTime": {
     "end_time": "2020-02-12T07:31:08.457766Z",
     "start_time": "2020-02-12T07:31:08.452220Z"
    }
   },
   "outputs": [],
   "source": [
    "# Number of trees in random forest\n",
    "n_estimators = [int(x) for x in np.linspace(start = 200, stop = 2000, num = 10)]\n",
    "# Number of features to consider at every split\n",
    "max_features = ['auto', 'sqrt']\n",
    "# Maximum number of levels in tree\n",
    "max_depth = [int(x) for x in np.linspace(10, 110, num = 11)]\n",
    "max_depth.append(None)\n",
    "# Minimum number of samples required to split a node\n",
    "min_samples_split = [2, 5, 10]\n",
    "# Minimum number of samples required at each leaf node\n",
    "min_samples_leaf = [1, 2, 4]\n",
    "# Method of selecting samples for training each tree\n",
    "bootstrap = [True, False]# Create the random grid\n",
    "\n",
    "random_grid = {'n_estimators': n_estimators,\n",
    "               'max_features': max_features,\n",
    "               'max_depth': max_depth,\n",
    "               'min_samples_split': min_samples_split,\n",
    "               'min_samples_leaf': min_samples_leaf,\n",
    "               'bootstrap': bootstrap}"
   ]
  },
  {
   "cell_type": "code",
   "execution_count": 21,
   "metadata": {
    "ExecuteTime": {
     "end_time": "2020-02-12T07:31:08.463382Z",
     "start_time": "2020-02-12T07:31:08.459939Z"
    }
   },
   "outputs": [],
   "source": [
    "rf = RandomForestClassifier()\n",
    "rf_random = RandomizedSearchCV(estimator = rf, \n",
    "                               param_distributions = random_grid, \n",
    "                               n_iter = 100, cv = 3, verbose=1, \n",
    "                               random_state=5, n_jobs = -1)"
   ]
  },
  {
   "cell_type": "code",
   "execution_count": 22,
   "metadata": {
    "ExecuteTime": {
     "end_time": "2020-02-12T08:02:35.051293Z",
     "start_time": "2020-02-12T07:31:08.470421Z"
    }
   },
   "outputs": [
    {
     "name": "stdout",
     "output_type": "stream",
     "text": [
      "Fitting 3 folds for each of 100 candidates, totalling 300 fits\n"
     ]
    },
    {
     "name": "stderr",
     "output_type": "stream",
     "text": [
      "[Parallel(n_jobs=-1)]: Using backend LokyBackend with 12 concurrent workers.\n",
      "[Parallel(n_jobs=-1)]: Done  26 tasks      | elapsed:  2.6min\n",
      "[Parallel(n_jobs=-1)]: Done 176 tasks      | elapsed: 18.4min\n",
      "[Parallel(n_jobs=-1)]: Done 300 out of 300 | elapsed: 30.2min finished\n"
     ]
    },
    {
     "data": {
      "text/plain": [
       "RandomizedSearchCV(cv=3, error_score=nan,\n",
       "                   estimator=RandomForestClassifier(bootstrap=True,\n",
       "                                                    ccp_alpha=0.0,\n",
       "                                                    class_weight=None,\n",
       "                                                    criterion='gini',\n",
       "                                                    max_depth=None,\n",
       "                                                    max_features='auto',\n",
       "                                                    max_leaf_nodes=None,\n",
       "                                                    max_samples=None,\n",
       "                                                    min_impurity_decrease=0.0,\n",
       "                                                    min_impurity_split=None,\n",
       "                                                    min_samples_leaf=1,\n",
       "                                                    min_samples_split=2,\n",
       "                                                    min_weight_fraction_leaf=0.0,\n",
       "                                                    n_estimators=100,\n",
       "                                                    n_jobs...\n",
       "                   iid='deprecated', n_iter=100, n_jobs=-1,\n",
       "                   param_distributions={'bootstrap': [True, False],\n",
       "                                        'max_depth': [10, 20, 30, 40, 50, 60,\n",
       "                                                      70, 80, 90, 100, 110,\n",
       "                                                      None],\n",
       "                                        'max_features': ['auto', 'sqrt'],\n",
       "                                        'min_samples_leaf': [1, 2, 4],\n",
       "                                        'min_samples_split': [2, 5, 10],\n",
       "                                        'n_estimators': [200, 400, 600, 800,\n",
       "                                                         1000, 1200, 1400, 1600,\n",
       "                                                         1800, 2000]},\n",
       "                   pre_dispatch='2*n_jobs', random_state=5, refit=True,\n",
       "                   return_train_score=False, scoring=None, verbose=1)"
      ]
     },
     "execution_count": 22,
     "metadata": {},
     "output_type": "execute_result"
    }
   ],
   "source": [
    "rf_random.fit(X_train, y_train)"
   ]
  },
  {
   "cell_type": "code",
   "execution_count": 23,
   "metadata": {
    "ExecuteTime": {
     "end_time": "2020-02-12T08:02:36.710272Z",
     "start_time": "2020-02-12T08:02:35.053863Z"
    }
   },
   "outputs": [],
   "source": [
    "y_pred = rf_random.predict(X_test)"
   ]
  },
  {
   "cell_type": "markdown",
   "metadata": {},
   "source": [
    "## Error Rate"
   ]
  },
  {
   "cell_type": "code",
   "execution_count": 24,
   "metadata": {
    "ExecuteTime": {
     "end_time": "2020-02-12T08:02:36.720559Z",
     "start_time": "2020-02-12T08:02:36.712296Z"
    }
   },
   "outputs": [
    {
     "data": {
      "text/plain": [
       "0.2797270955165692"
      ]
     },
     "execution_count": 24,
     "metadata": {},
     "output_type": "execute_result"
    }
   ],
   "source": [
    "error_rate(y_test, y_pred)"
   ]
  },
  {
   "cell_type": "markdown",
   "metadata": {},
   "source": [
    "## Classification Report"
   ]
  },
  {
   "cell_type": "code",
   "execution_count": 25,
   "metadata": {
    "ExecuteTime": {
     "end_time": "2020-02-12T08:02:36.735104Z",
     "start_time": "2020-02-12T08:02:36.722570Z"
    }
   },
   "outputs": [
    {
     "name": "stdout",
     "output_type": "stream",
     "text": [
      "              precision    recall  f1-score   support\n",
      "\n",
      "           0       0.98      0.96      0.97       439\n",
      "           1       0.71      0.63      0.67       439\n",
      "           2       0.65      0.65      0.65       440\n",
      "           3       0.80      0.83      0.82       440\n",
      "           4       0.67      0.72      0.69       440\n",
      "           5       0.58      0.60      0.59       440\n",
      "           6       0.67      0.65      0.66       440\n",
      "\n",
      "    accuracy                           0.72      3078\n",
      "   macro avg       0.72      0.72      0.72      3078\n",
      "weighted avg       0.72      0.72      0.72      3078\n",
      "\n"
     ]
    }
   ],
   "source": [
    "print(classification_report(y_test, y_pred))"
   ]
  },
  {
   "cell_type": "markdown",
   "metadata": {},
   "source": [
    "## Confusion Matrix"
   ]
  },
  {
   "cell_type": "code",
   "execution_count": 26,
   "metadata": {
    "ExecuteTime": {
     "end_time": "2020-02-12T08:02:37.316768Z",
     "start_time": "2020-02-12T08:02:36.737480Z"
    }
   },
   "outputs": [
    {
     "data": {
      "image/png": "[encoded data removed]",
      "text/plain": [
       "<Figure size 1296x1008 with 2 Axes>"
      ]
     },
     "metadata": {
      "needs_background": "light"
     },
     "output_type": "display_data"
    }
   ],
   "source": [
    "plot_confustion_matrix(y_test, y_pred, df,prob=False)"
   ]
  },
  {
   "cell_type": "markdown",
   "metadata": {},
   "source": [
    "## Feature Importance"
   ]
  },
  {
   "cell_type": "code",
   "execution_count": 28,
   "metadata": {
    "ExecuteTime": {
     "end_time": "2020-02-12T08:03:04.536475Z",
     "start_time": "2020-02-12T08:03:04.104043Z"
    }
   },
   "outputs": [
    {
     "data": {
      "image/png": "[encoded data removed]",
      "text/plain": [
       "<Figure size 432x288 with 1 Axes>"
      ]
     },
     "metadata": {
      "needs_background": "light"
     },
     "output_type": "display_data"
    }
   ],
   "source": [
    "features = X_train.columns.tolist()\n",
    "importances = rf_random.best_estimator_.feature_importances_\n",
    "indices = np.argsort(importances)\n",
    "\n",
    "plt.title('Random Forest Feature Importance')\n",
    "plt.barh(range(len(indices)), importances[indices], color='b', align='center')\n",
    "plt.yticks(range(len(indices)), [features[i] for i in indices])\n",
    "plt.xlabel('Relative Importance')\n",
    "plt.show()"
   ]
  },
  {
   "cell_type": "markdown",
   "metadata": {},
   "source": [
    "## Save model"
   ]
  },
  {
   "cell_type": "code",
   "execution_count": 30,
   "metadata": {
    "ExecuteTime": {
     "end_time": "2020-02-12T08:05:22.235840Z",
     "start_time": "2020-02-12T08:05:21.091766Z"
    }
   },
   "outputs": [],
   "source": [
    "pickle.dump(rf_random.best_estimator_, open('99_ML_Random_Forest_Baseline.pkl', 'wb'))"
   ]
  },
  {
   "cell_type": "markdown",
   "metadata": {},
   "source": [
    "# Make submission predictions"
   ]
  },
  {
   "cell_type": "code",
   "execution_count": 2,
   "metadata": {
    "ExecuteTime": {
     "end_time": "2020-02-15T08:55:33.131174Z",
     "start_time": "2020-02-15T08:55:23.673168Z"
    }
   },
   "outputs": [],
   "source": [
    "df_submission = pd.read_pickle('../data/df_submission.pkl.gzip', compression='gzip')"
   ]
  },
  {
   "cell_type": "code",
   "execution_count": 3,
   "metadata": {
    "ExecuteTime": {
     "end_time": "2020-02-15T08:55:34.191713Z",
     "start_time": "2020-02-15T08:55:34.129009Z"
    }
   },
   "outputs": [
    {
     "name": "stdout",
     "output_type": "stream",
     "text": [
      "(20982, 17)\n"
     ]
    },
    {
     "data": {
      "text/html": [
       "<div>\n",
       "<style scoped>\n",
       "    .dataframe tbody tr th:only-of-type {\n",
       "        vertical-align: middle;\n",
       "    }\n",
       "\n",
       "    .dataframe tbody tr th {\n",
       "        vertical-align: top;\n",
       "    }\n",
       "\n",
       "    .dataframe thead th {\n",
       "        text-align: right;\n",
       "    }\n",
       "</style>\n",
       "<table border=\"1\" class=\"dataframe\">\n",
       "  <thead>\n",
       "    <tr style=\"text-align: right;\">\n",
       "      <th></th>\n",
       "      <th>trace_id</th>\n",
       "      <th>receiver_latitude</th>\n",
       "      <th>receiver_longitude</th>\n",
       "      <th>receiver_elevation_m</th>\n",
       "      <th>p_arrival_sample</th>\n",
       "      <th>p_travel_sec</th>\n",
       "      <th>s_arrival_sample</th>\n",
       "      <th>source_origin_time</th>\n",
       "      <th>source_latitude</th>\n",
       "      <th>source_longitude</th>\n",
       "      <th>source_depth_km</th>\n",
       "      <th>snr_db_E</th>\n",
       "      <th>snr_db_N</th>\n",
       "      <th>snr_db_Z</th>\n",
       "      <th>E</th>\n",
       "      <th>N</th>\n",
       "      <th>Z</th>\n",
       "    </tr>\n",
       "  </thead>\n",
       "  <tbody>\n",
       "    <tr>\n",
       "      <th>0</th>\n",
       "      <td>trace_500</td>\n",
       "      <td>37.85884</td>\n",
       "      <td>-121.99264</td>\n",
       "      <td>259.0</td>\n",
       "      <td>399.0</td>\n",
       "      <td>13.806000</td>\n",
       "      <td>892.0</td>\n",
       "      <td>2011-04-16 12:40:15.591</td>\n",
       "      <td>52.55610</td>\n",
       "      <td>-116.23017</td>\n",
       "      <td>1.50</td>\n",
       "      <td>31.299999</td>\n",
       "      <td>49.900002</td>\n",
       "      <td>27.0</td>\n",
       "      <td>[-0.0, -0.00022036854, -0.0006564023, -0.00178...</td>\n",
       "      <td>[-0.0, -1.5555523e-05, -2.6436726e-05, -5.1018...</td>\n",
       "      <td>[-0.0, -6.6268326e-06, -5.566338e-07, 7.242038...</td>\n",
       "    </tr>\n",
       "    <tr>\n",
       "      <th>1</th>\n",
       "      <td>trace_501</td>\n",
       "      <td>36.68011</td>\n",
       "      <td>-119.02282</td>\n",
       "      <td>1140.0</td>\n",
       "      <td>600.0</td>\n",
       "      <td>5.080000</td>\n",
       "      <td>2148.0</td>\n",
       "      <td>2011-03-12 15:54:01.040</td>\n",
       "      <td>36.57950</td>\n",
       "      <td>-149.94900</td>\n",
       "      <td>16.00</td>\n",
       "      <td>28.900000</td>\n",
       "      <td>25.799999</td>\n",
       "      <td>26.6</td>\n",
       "      <td>[-0.0, -0.003910351, -0.0076862974, -0.0587444...</td>\n",
       "      <td>[0.0, 0.0111518, 0.031661604, 0.098408185, 0.1...</td>\n",
       "      <td>[-0.0, -0.019765988, -0.061188668, -0.15370083...</td>\n",
       "    </tr>\n",
       "    <tr>\n",
       "      <th>2</th>\n",
       "      <td>trace_502</td>\n",
       "      <td>60.19520</td>\n",
       "      <td>-154.32010</td>\n",
       "      <td>96.0</td>\n",
       "      <td>500.0</td>\n",
       "      <td>11.440000</td>\n",
       "      <td>1764.0</td>\n",
       "      <td>2015-03-25 00:10:57.680</td>\n",
       "      <td>37.66467</td>\n",
       "      <td>-117.30250</td>\n",
       "      <td>81.18</td>\n",
       "      <td>35.299999</td>\n",
       "      <td>26.900000</td>\n",
       "      <td>19.9</td>\n",
       "      <td>[38.845078, 41.64532, 39.854225, 33.39964, 23....</td>\n",
       "      <td>[-42.89445, -27.585876, -12.321886, 2.3429925,...</td>\n",
       "      <td>[-21.905762, -5.8183093, 14.36668, 30.567423, ...</td>\n",
       "    </tr>\n",
       "    <tr>\n",
       "      <th>3</th>\n",
       "      <td>trace_503</td>\n",
       "      <td>35.92920</td>\n",
       "      <td>-120.51530</td>\n",
       "      <td>583.0</td>\n",
       "      <td>700.0</td>\n",
       "      <td>10.580000</td>\n",
       "      <td>1216.5</td>\n",
       "      <td>2018-04-21 13:34:42.190</td>\n",
       "      <td>54.22590</td>\n",
       "      <td>17.02430</td>\n",
       "      <td>14.11</td>\n",
       "      <td>35.599998</td>\n",
       "      <td>37.599998</td>\n",
       "      <td>24.4</td>\n",
       "      <td>[-0.0, -0.00024849953, -9.589619e-05, -0.00362...</td>\n",
       "      <td>[0.0, 0.00030432147, 0.0017123658, 0.004246875...</td>\n",
       "      <td>[0.0, 0.00016073156, 0.0014357661, 0.00039703,...</td>\n",
       "    </tr>\n",
       "    <tr>\n",
       "      <th>4</th>\n",
       "      <td>trace_504</td>\n",
       "      <td>36.19250</td>\n",
       "      <td>-117.66850</td>\n",
       "      <td>1859.9</td>\n",
       "      <td>900.0</td>\n",
       "      <td>17.969999</td>\n",
       "      <td>921.0</td>\n",
       "      <td>2014-10-29 06:26:22.730</td>\n",
       "      <td>37.02580</td>\n",
       "      <td>-116.25717</td>\n",
       "      <td>6.16</td>\n",
       "      <td>27.299999</td>\n",
       "      <td>27.700001</td>\n",
       "      <td>24.6</td>\n",
       "      <td>[0.0, 0.00027774205, -0.00014372196, -0.002718...</td>\n",
       "      <td>[-0.0, -2.7009946e-05, 0.00095413084, 0.001883...</td>\n",
       "      <td>[0.0, 0.0003360864, 0.0004533975, 0.0011395814...</td>\n",
       "    </tr>\n",
       "  </tbody>\n",
       "</table>\n",
       "</div>"
      ],
      "text/plain": [
       "    trace_id  receiver_latitude  receiver_longitude  receiver_elevation_m  \\\n",
       "0  trace_500           37.85884          -121.99264                 259.0   \n",
       "1  trace_501           36.68011          -119.02282                1140.0   \n",
       "2  trace_502           60.19520          -154.32010                  96.0   \n",
       "3  trace_503           35.92920          -120.51530                 583.0   \n",
       "4  trace_504           36.19250          -117.66850                1859.9   \n",
       "\n",
       "   p_arrival_sample  p_travel_sec  s_arrival_sample      source_origin_time  \\\n",
       "0             399.0     13.806000             892.0 2011-04-16 12:40:15.591   \n",
       "1             600.0      5.080000            2148.0 2011-03-12 15:54:01.040   \n",
       "2             500.0     11.440000            1764.0 2015-03-25 00:10:57.680   \n",
       "3             700.0     10.580000            1216.5 2018-04-21 13:34:42.190   \n",
       "4             900.0     17.969999             921.0 2014-10-29 06:26:22.730   \n",
       "\n",
       "   source_latitude  source_longitude  source_depth_km   snr_db_E   snr_db_N  \\\n",
       "0         52.55610        -116.23017             1.50  31.299999  49.900002   \n",
       "1         36.57950        -149.94900            16.00  28.900000  25.799999   \n",
       "2         37.66467        -117.30250            81.18  35.299999  26.900000   \n",
       "3         54.22590          17.02430            14.11  35.599998  37.599998   \n",
       "4         37.02580        -116.25717             6.16  27.299999  27.700001   \n",
       "\n",
       "   snr_db_Z                                                  E  \\\n",
       "0      27.0  [-0.0, -0.00022036854, -0.0006564023, -0.00178...   \n",
       "1      26.6  [-0.0, -0.003910351, -0.0076862974, -0.0587444...   \n",
       "2      19.9  [38.845078, 41.64532, 39.854225, 33.39964, 23....   \n",
       "3      24.4  [-0.0, -0.00024849953, -9.589619e-05, -0.00362...   \n",
       "4      24.6  [0.0, 0.00027774205, -0.00014372196, -0.002718...   \n",
       "\n",
       "                                                   N  \\\n",
       "0  [-0.0, -1.5555523e-05, -2.6436726e-05, -5.1018...   \n",
       "1  [0.0, 0.0111518, 0.031661604, 0.098408185, 0.1...   \n",
       "2  [-42.89445, -27.585876, -12.321886, 2.3429925,...   \n",
       "3  [0.0, 0.00030432147, 0.0017123658, 0.004246875...   \n",
       "4  [-0.0, -2.7009946e-05, 0.00095413084, 0.001883...   \n",
       "\n",
       "                                                   Z  \n",
       "0  [-0.0, -6.6268326e-06, -5.566338e-07, 7.242038...  \n",
       "1  [-0.0, -0.019765988, -0.061188668, -0.15370083...  \n",
       "2  [-21.905762, -5.8183093, 14.36668, 30.567423, ...  \n",
       "3  [0.0, 0.00016073156, 0.0014357661, 0.00039703,...  \n",
       "4  [0.0, 0.0003360864, 0.0004533975, 0.0011395814...  "
      ]
     },
     "execution_count": 3,
     "metadata": {},
     "output_type": "execute_result"
    }
   ],
   "source": [
    "print(df_submission.shape)\n",
    "df_submission.head()"
   ]
  },
  {
   "cell_type": "markdown",
   "metadata": {},
   "source": [
    "## Apply pre-processing"
   ]
  },
  {
   "cell_type": "code",
   "execution_count": 4,
   "metadata": {
    "ExecuteTime": {
     "end_time": "2020-02-15T08:55:39.846923Z",
     "start_time": "2020-02-15T08:55:38.080112Z"
    }
   },
   "outputs": [
    {
     "name": "stderr",
     "output_type": "stream",
     "text": [
      "/opt/anaconda3/lib/python3.7/site-packages/obspy/signal/headers.py:93: FutureWarning: Passing (type, 1) or '1type' as a synonym of type is deprecated; in a future version of numpy, it will be understood as (type, (1,)) / '(1,)type'.\n",
      "  ], align=True)\n"
     ]
    }
   ],
   "source": [
    "from PreProcessing import preprocess"
   ]
  },
  {
   "cell_type": "code",
   "execution_count": 5,
   "metadata": {
    "ExecuteTime": {
     "end_time": "2020-02-15T08:57:40.620881Z",
     "start_time": "2020-02-15T08:55:43.275596Z"
    }
   },
   "outputs": [
    {
     "name": "stdout",
     "output_type": "stream",
     "text": [
      "     Processing - Degree of rectiliniarity (polarization)\n",
      "     Starting Trace-By-Trace feature processing\n",
      "          Processing Spectral Centroid\n",
      "          RMS of frequency amplitude\n",
      "          Maximum power of frequency amplitude\n",
      "          Dominant frequency\n",
      "          Processing Spectral Centroid\n",
      "          RMS of frequency amplitude\n",
      "          Maximum power of frequency amplitude\n",
      "          Dominant frequency\n",
      "          Processing Spectral Centroid\n",
      "          RMS of frequency amplitude\n",
      "          Maximum power of frequency amplitude\n",
      "          Dominant frequency\n"
     ]
    }
   ],
   "source": [
    "X_submission = preprocess(df_submission)"
   ]
  },
  {
   "cell_type": "code",
   "execution_count": 6,
   "metadata": {
    "ExecuteTime": {
     "end_time": "2020-02-15T08:57:42.570399Z",
     "start_time": "2020-02-15T08:57:40.625759Z"
    }
   },
   "outputs": [],
   "source": [
    "# load model if necessary\n",
    "rf_random_best_estimator_ = pickle.load( open('99_ML_Random_Forest_Baseline.pkl', \"rb\" ) )"
   ]
  },
  {
   "cell_type": "code",
   "execution_count": 7,
   "metadata": {
    "ExecuteTime": {
     "end_time": "2020-02-15T08:57:50.023159Z",
     "start_time": "2020-02-15T08:57:42.573535Z"
    }
   },
   "outputs": [],
   "source": [
    "y_submission = rf_random_best_estimator_.predict(X_submission.drop(['trace_id'],axis=1))"
   ]
  },
  {
   "cell_type": "code",
   "execution_count": 8,
   "metadata": {
    "ExecuteTime": {
     "end_time": "2020-02-15T08:57:50.029745Z",
     "start_time": "2020-02-15T08:57:50.025280Z"
    }
   },
   "outputs": [],
   "source": [
    "df_result = pd.DataFrame({'trace_id' : df_submission['trace_id'], 'submission' : y_submission})"
   ]
  },
  {
   "cell_type": "code",
   "execution_count": 9,
   "metadata": {
    "ExecuteTime": {
     "end_time": "2020-02-15T08:57:50.042295Z",
     "start_time": "2020-02-15T08:57:50.031686Z"
    }
   },
   "outputs": [
    {
     "data": {
      "text/html": [
       "<div>\n",
       "<style scoped>\n",
       "    .dataframe tbody tr th:only-of-type {\n",
       "        vertical-align: middle;\n",
       "    }\n",
       "\n",
       "    .dataframe tbody tr th {\n",
       "        vertical-align: top;\n",
       "    }\n",
       "\n",
       "    .dataframe thead th {\n",
       "        text-align: right;\n",
       "    }\n",
       "</style>\n",
       "<table border=\"1\" class=\"dataframe\">\n",
       "  <thead>\n",
       "    <tr style=\"text-align: right;\">\n",
       "      <th></th>\n",
       "      <th>trace_id</th>\n",
       "      <th>submission</th>\n",
       "    </tr>\n",
       "  </thead>\n",
       "  <tbody>\n",
       "    <tr>\n",
       "      <th>0</th>\n",
       "      <td>trace_500</td>\n",
       "      <td>0</td>\n",
       "    </tr>\n",
       "    <tr>\n",
       "      <th>1</th>\n",
       "      <td>trace_501</td>\n",
       "      <td>5</td>\n",
       "    </tr>\n",
       "    <tr>\n",
       "      <th>2</th>\n",
       "      <td>trace_502</td>\n",
       "      <td>5</td>\n",
       "    </tr>\n",
       "    <tr>\n",
       "      <th>3</th>\n",
       "      <td>trace_503</td>\n",
       "      <td>5</td>\n",
       "    </tr>\n",
       "    <tr>\n",
       "      <th>4</th>\n",
       "      <td>trace_504</td>\n",
       "      <td>1</td>\n",
       "    </tr>\n",
       "    <tr>\n",
       "      <th>...</th>\n",
       "      <td>...</td>\n",
       "      <td>...</td>\n",
       "    </tr>\n",
       "    <tr>\n",
       "      <th>20995</th>\n",
       "      <td>trace_21495</td>\n",
       "      <td>4</td>\n",
       "    </tr>\n",
       "    <tr>\n",
       "      <th>20996</th>\n",
       "      <td>trace_21496</td>\n",
       "      <td>0</td>\n",
       "    </tr>\n",
       "    <tr>\n",
       "      <th>20997</th>\n",
       "      <td>trace_21497</td>\n",
       "      <td>4</td>\n",
       "    </tr>\n",
       "    <tr>\n",
       "      <th>20998</th>\n",
       "      <td>trace_21498</td>\n",
       "      <td>4</td>\n",
       "    </tr>\n",
       "    <tr>\n",
       "      <th>20999</th>\n",
       "      <td>trace_21499</td>\n",
       "      <td>3</td>\n",
       "    </tr>\n",
       "  </tbody>\n",
       "</table>\n",
       "<p>20982 rows × 2 columns</p>\n",
       "</div>"
      ],
      "text/plain": [
       "          trace_id  submission\n",
       "0        trace_500           0\n",
       "1        trace_501           5\n",
       "2        trace_502           5\n",
       "3        trace_503           5\n",
       "4        trace_504           1\n",
       "...            ...         ...\n",
       "20995  trace_21495           4\n",
       "20996  trace_21496           0\n",
       "20997  trace_21497           4\n",
       "20998  trace_21498           4\n",
       "20999  trace_21499           3\n",
       "\n",
       "[20982 rows x 2 columns]"
      ]
     },
     "execution_count": 9,
     "metadata": {},
     "output_type": "execute_result"
    }
   ],
   "source": [
    "df_result"
   ]
  },
  {
   "cell_type": "code",
   "execution_count": 10,
   "metadata": {
    "ExecuteTime": {
     "end_time": "2020-02-15T08:57:50.081806Z",
     "start_time": "2020-02-15T08:57:50.044523Z"
    }
   },
   "outputs": [],
   "source": [
    "df_result.to_csv('./99_ML_Random_Forest_Baseline_Prediction.csv',index=False)"
   ]
  },
  {
   "cell_type": "markdown",
   "metadata": {},
   "source": [
    "## Get Metrics as if on Platform"
   ]
  },
  {
   "cell_type": "code",
   "execution_count": 11,
   "metadata": {
    "ExecuteTime": {
     "end_time": "2020-02-15T08:57:50.100203Z",
     "start_time": "2020-02-15T08:57:50.083625Z"
    }
   },
   "outputs": [],
   "source": [
    "df_true = pd.read_csv('./submissions_true.csv')"
   ]
  },
  {
   "cell_type": "code",
   "execution_count": 12,
   "metadata": {
    "ExecuteTime": {
     "end_time": "2020-02-15T08:57:50.121029Z",
     "start_time": "2020-02-15T08:57:50.103281Z"
    }
   },
   "outputs": [],
   "source": [
    "df_merge = pd.merge(left=df_true, right=df_result, left_on='trace_id', right_on='trace_id', how='left')\n",
    "y_true = df_merge['true_label']\n",
    "y_pred = df_merge['submission']"
   ]
  },
  {
   "cell_type": "code",
   "execution_count": 13,
   "metadata": {
    "ExecuteTime": {
     "end_time": "2020-02-15T08:57:50.167106Z",
     "start_time": "2020-02-15T08:57:50.123052Z"
    }
   },
   "outputs": [
    {
     "name": "stdout",
     "output_type": "stream",
     "text": [
      "precision_score : 0.7245476045255589\n",
      "recall_score : 0.7240968449146887\n",
      "f1_score : 0.7234004336579665\n",
      "balanced_accuracy_score : 0.7241070955796992\n"
     ]
    }
   ],
   "source": [
    "print('precision_score :', precision_score(y_true, y_pred, average='weighted'))\n",
    "print('recall_score :', recall_score(y_true, y_pred, average='weighted'))\n",
    "print('f1_score :', f1_score(y_true, y_pred, average='weighted'))\n",
    "print('balanced_accuracy_score :', balanced_accuracy_score(y_true, y_pred))"
   ]
  },
  {
   "cell_type": "code",
   "execution_count": null,
   "metadata": {},
   "outputs": [],
   "source": []
  }
 ],
 "metadata": {
  "hide_input": false,
  "kernelspec": {
   "display_name": "Python 3",
   "language": "python",
   "name": "python3"
  },
  "language_info": {
   "codemirror_mode": {
    "name": "ipython",
    "version": 3
   },
   "file_extension": ".py",
   "mimetype": "text/x-python",
   "name": "python",
   "nbconvert_exporter": "python",
   "pygments_lexer": "ipython3",
   "version": "3.7.6"
  },
  "toc": {
   "base_numbering": 1,
   "nav_menu": {
    "height": "226px",
    "width": "256px"
   },
   "number_sections": true,
   "sideBar": true,
   "skip_h1_title": false,
   "title_cell": "Table of Contents",
   "title_sidebar": "Contents",
   "toc_cell": false,
   "toc_position": {
    "height": "calc(100% - 180px)",
    "left": "10px",
    "top": "150px",
    "width": "336px"
   },
   "toc_section_display": true,
   "toc_window_display": true
  }
 },
 "nbformat": 4,
 "nbformat_minor": 2
}
