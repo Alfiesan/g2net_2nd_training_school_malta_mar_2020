{
 "cells": [
  {
   "cell_type": "code",
   "execution_count": 1,
   "metadata": {},
   "outputs": [
    {
     "name": "stderr",
     "output_type": "stream",
     "text": [
      "/home/filip/Work/Env/env367/lib/python3.6/site-packages/pandas/compat/__init__.py:85: UserWarning: Could not import the lzma module. Your installed Python is incomplete. Attempting to use lzma compression will result in a RuntimeError.\n",
      "  warnings.warn(msg)\n",
      "/home/filip/Work/Env/env367/lib/python3.6/site-packages/pandas/compat/__init__.py:85: UserWarning: Could not import the lzma module. Your installed Python is incomplete. Attempting to use lzma compression will result in a RuntimeError.\n",
      "  warnings.warn(msg)\n"
     ]
    }
   ],
   "source": [
    "import os\n",
    "import numpy as np\n",
    "import pandas as pd\n",
    "import sklearn.metrics as metrics\n",
    "from sklearn.ensemble import RandomForestClassifier\n",
    "from sklearn.metrics import classification_report\n",
    "import matplotlib.pyplot as plt\n",
    "from MachineLearningUtils import plot_confustion_matrix, error_rate\n",
    "from sklearn.metrics import confusion_matrix\n",
    "from sklearn import preprocessing\n",
    "\n",
    "from scipy.signal import welch\n",
    "from scipy import signal"
   ]
  },
  {
   "cell_type": "code",
   "execution_count": 2,
   "metadata": {},
   "outputs": [],
   "source": [
    "def get_meta(sample, t0=0.0, fs=100):\n",
    "    \n",
    "    # Compute PSD of the signal\n",
    "    sig = np.pad(sample, (int(fs), int(fs)), 'constant')\n",
    "    freqs, psd = signal.welch(sig, fs, nperseg=1024)\n",
    "    psd = np.abs(psd)\n",
    "    \n",
    "    # Compute the time shift of the peak\n",
    "    tMax = np.argmax(np.abs(sample)) / fs\n",
    "    tNew = tMax + t0\n",
    "    \n",
    "    # Compute the signal duration\n",
    "    inds = sample.argsort()[-10:][::-1]\n",
    "    duration = np.abs(np.max(inds) - np.min(inds)) / fs\n",
    "    \n",
    "    # Compute the signal mean and maximum frequency\n",
    "    sel_freqs = freqs[psd.argsort()[-3:][::-1]]\n",
    "    freqMean = np.mean(sel_freqs)\n",
    "    freqMax = np.max(sel_freqs)\n",
    "    \n",
    "    # Compute the signal SNR\n",
    "    psd_ave = np.sum(psd) / psd.shape[0]\n",
    "    snrMax = np.sqrt(np.max(np.abs(sample)) / np.sqrt(psd_ave))\n",
    "    '''\n",
    "    meta = {\n",
    "        'time': tNew,\n",
    "        'duration': duration,\n",
    "        'freqMean': freqMean,\n",
    "        'freqMax': freqMax,\n",
    "        'snrMax': snrMax\n",
    "    }\n",
    "    '''\n",
    "    meta = [\n",
    "        tNew, duration, freqMean, freqMax, snrMax\n",
    "    ]\n",
    "    return meta, psd, freqs"
   ]
  },
  {
   "cell_type": "code",
   "execution_count": 3,
   "metadata": {},
   "outputs": [],
   "source": [
    "df_train = pd.read_pickle('./data/df_train.pkl.gzip', compression='gzip')\n",
    "df_test = pd.read_pickle('./data/df_test.pkl.gzip', compression='gzip')"
   ]
  },
  {
   "cell_type": "code",
   "execution_count": 4,
   "metadata": {},
   "outputs": [
    {
     "data": {
      "text/plain": [
       "array(['Far_Large', 'Far_Medium', 'Far_Small', 'Near_Large',\n",
       "       'Near_Medium', 'Near_Small', 'Noise'], dtype=object)"
      ]
     },
     "execution_count": 4,
     "metadata": {},
     "output_type": "execute_result"
    }
   ],
   "source": [
    "np.unique(df_train['label'])"
   ]
  },
  {
   "cell_type": "code",
   "execution_count": 5,
   "metadata": {},
   "outputs": [],
   "source": [
    "classes = ['Noise', 'Far_Large', 'Far_Medium', 'Far_Small', 'Near_Large',\n",
    "       'Near_Medium', 'Near_Small']"
   ]
  },
  {
   "cell_type": "code",
   "execution_count": 6,
   "metadata": {},
   "outputs": [
    {
     "data": {
      "text/plain": [
       "Index(['label', 'target', 'trace_id', 'receiver_latitude',\n",
       "       'receiver_longitude', 'receiver_elevation_m', 'p_arrival_sample',\n",
       "       'p_travel_sec', 's_arrival_sample', 'source_origin_time',\n",
       "       'source_latitude', 'source_longitude', 'source_depth_km', 'snr_db_E',\n",
       "       'snr_db_N', 'snr_db_Z', 'E', 'N', 'Z'],\n",
       "      dtype='object')"
      ]
     },
     "execution_count": 6,
     "metadata": {},
     "output_type": "execute_result"
    }
   ],
   "source": [
    "df_train.columns"
   ]
  },
  {
   "cell_type": "code",
   "execution_count": 7,
   "metadata": {},
   "outputs": [],
   "source": [
    "columns = ['receiver_latitude', 'receiver_longitude',\n",
    "       'receiver_elevation_m', 'p_arrival_sample', 'p_travel_sec',\n",
    "       's_arrival_sample', 'source_latitude', 'source_longitude',\n",
    "       'source_depth_km', 'snr_db_E', 'snr_db_N', 'snr_db_Z']"
   ]
  },
  {
   "cell_type": "code",
   "execution_count": 8,
   "metadata": {},
   "outputs": [],
   "source": [
    "meta_train_E = np.zeros((df_train.shape[0], 5))\n",
    "psd_train_E = np.zeros((df_train.shape[0], 513))\n",
    "i = 0\n",
    "for row, item in df_train.iterrows():\n",
    "    sample_E = item['E']\n",
    "    meta, psd, _ = get_meta(sample_E)\n",
    "    meta_train_E[i] = meta\n",
    "    psd_train_E[i] = psd\n",
    "    i += 1"
   ]
  },
  {
   "cell_type": "code",
   "execution_count": 9,
   "metadata": {},
   "outputs": [],
   "source": [
    "meta_train_N = np.zeros((df_train.shape[0], 5))\n",
    "psd_train_N = np.zeros((df_train.shape[0], 513))\n",
    "i = 0\n",
    "for row, item in df_train.iterrows():\n",
    "    sample_N = item['N']\n",
    "    meta, psd, _ = get_meta(sample_N)\n",
    "    meta_train_N[i] = meta\n",
    "    psd_train_N[i] = psd\n",
    "    i += 1"
   ]
  },
  {
   "cell_type": "code",
   "execution_count": 10,
   "metadata": {},
   "outputs": [],
   "source": [
    "meta_train_Z = np.zeros((df_train.shape[0], 5))\n",
    "psd_train_Z = np.zeros((df_train.shape[0], 513))\n",
    "i = 0\n",
    "for row, item in df_train.iterrows():\n",
    "    sample_Z = item['Z']\n",
    "    meta, psd, _ = get_meta(sample_Z)\n",
    "    meta_train_Z[i] = meta\n",
    "    psd_train_Z[i] = psd\n",
    "    i += 1"
   ]
  },
  {
   "cell_type": "code",
   "execution_count": 16,
   "metadata": {},
   "outputs": [],
   "source": [
    "meta_train_ENZ = np.zeros((df_train.shape[0], 5))\n",
    "psd_train_ENZ = np.zeros((df_train.shape[0], 513))\n",
    "i = 0\n",
    "for row, item in df_train.iterrows():\n",
    "    sample_E = item['E']\n",
    "    sample_N = item['N']\n",
    "    sample_Z = item['Z']\n",
    "    sample = sample_E + sample_N + sample_Z\n",
    "    meta, psd, _ = get_meta(sample)\n",
    "    meta_train_ENZ[i] = meta\n",
    "    psd_train_ENZ[i] = psd\n",
    "    i += 1"
   ]
  },
  {
   "cell_type": "code",
   "execution_count": 11,
   "metadata": {},
   "outputs": [],
   "source": [
    "meta_test_E = np.zeros((df_test.shape[0], 5))\n",
    "psd_test_E = np.zeros((df_test.shape[0], 513))\n",
    "i = 0\n",
    "for row, item in df_test.iterrows():\n",
    "    sample_E = item['E']\n",
    "    meta, psd, _ = get_meta(sample_E)\n",
    "    meta_test_E[i] = meta\n",
    "    psd_test_E[i] = psd\n",
    "    i += 1"
   ]
  },
  {
   "cell_type": "code",
   "execution_count": 12,
   "metadata": {},
   "outputs": [],
   "source": [
    "meta_test_N = np.zeros((df_test.shape[0], 5))\n",
    "psd_test_N = np.zeros((df_test.shape[0], 513))\n",
    "i = 0\n",
    "for row, item in df_test.iterrows():\n",
    "    sample_N = item['N']\n",
    "    meta, psd, _ = get_meta(sample_N)\n",
    "    meta_test_N[i] = meta\n",
    "    psd_test_N[i] = psd\n",
    "    i += 1"
   ]
  },
  {
   "cell_type": "code",
   "execution_count": 13,
   "metadata": {},
   "outputs": [],
   "source": [
    "meta_test_Z = np.zeros((df_test.shape[0], 5))\n",
    "psd_test_Z = np.zeros((df_test.shape[0], 513))\n",
    "i = 0\n",
    "for row, item in df_test.iterrows():\n",
    "    sample_Z = item['Z']\n",
    "    meta, psd, _ = get_meta(sample_Z)\n",
    "    meta_test_Z[i] = meta\n",
    "    psd_test_Z[i] = psd\n",
    "    i += 1"
   ]
  },
  {
   "cell_type": "code",
   "execution_count": 17,
   "metadata": {},
   "outputs": [],
   "source": [
    "meta_test_ENZ = np.zeros((df_test.shape[0], 5))\n",
    "psd_test_ENZ = np.zeros((df_test.shape[0], 513))\n",
    "i = 0\n",
    "for row, item in df_test.iterrows():\n",
    "    sample_E = item['E']\n",
    "    sample_N = item['N']\n",
    "    sample_Z = item['Z']\n",
    "    sample = sample_E + sample_N + sample_Z\n",
    "    meta, psd, _ = get_meta(sample)\n",
    "    meta_test_ENZ[i] = meta\n",
    "    psd_test_ENZ[i] = psd\n",
    "    i += 1"
   ]
  },
  {
   "cell_type": "code",
   "execution_count": 18,
   "metadata": {},
   "outputs": [
    {
     "data": {
      "text/plain": [
       "[<matplotlib.lines.Line2D at 0x7f57cbd6fa58>]"
      ]
     },
     "execution_count": 18,
     "metadata": {},
     "output_type": "execute_result"
    },
    {
     "data": {
      "image/png": "[encoded data removed]",
      "text/plain": [
       "<Figure size 432x288 with 1 Axes>"
      ]
     },
     "metadata": {
      "needs_background": "light"
     },
     "output_type": "display_data"
    }
   ],
   "source": [
    "plt.plot(sample_E, alpha=0.5)\n",
    "plt.plot(sample_N, alpha=0.5)\n",
    "plt.plot(sample_Z, alpha=0.5)\n",
    "plt.plot(sample_E + sample_N + sample_Z, alpha=0.1)"
   ]
  },
  {
   "cell_type": "code",
   "execution_count": 19,
   "metadata": {},
   "outputs": [],
   "source": [
    "df_train = df_train.drop(['label','trace_id','E','N','Z','source_origin_time'],axis=1).dropna()\n",
    "df_test = df_test.drop(['label','trace_id','E','N','Z','source_origin_time'],axis=1).dropna()"
   ]
  },
  {
   "cell_type": "code",
   "execution_count": 20,
   "metadata": {},
   "outputs": [],
   "source": [
    "y_train = df_train['target'].values\n",
    "y_test = df_test['target'].values"
   ]
  },
  {
   "cell_type": "code",
   "execution_count": 21,
   "metadata": {},
   "outputs": [],
   "source": [
    "X_train = np.hstack((df_train[columns].values, meta_train_E, meta_train_N, meta_train_Z, meta_train_ENZ))\n",
    "X_test = np.hstack((df_test[columns].values, meta_test_E, meta_test_N, meta_test_Z, meta_test_ENZ))\n",
    "#X_train = np.hstack((meta_train_E, meta_train_N, meta_train_Z))\n",
    "#X_test = np.hstack((meta_test_E, meta_test_N, meta_test_Z))"
   ]
  },
  {
   "cell_type": "code",
   "execution_count": 22,
   "metadata": {},
   "outputs": [],
   "source": [
    "max_scalers = np.max(X_train, axis=0)\n",
    "min_scalers = np.min(X_train, axis=0)"
   ]
  },
  {
   "cell_type": "code",
   "execution_count": 23,
   "metadata": {},
   "outputs": [],
   "source": [
    "X_train = (X_train - min_scalers) / (max_scalers - min_scalers)"
   ]
  },
  {
   "cell_type": "code",
   "execution_count": 24,
   "metadata": {},
   "outputs": [],
   "source": [
    "X_test = (X_test - min_scalers) / (max_scalers - min_scalers)"
   ]
  },
  {
   "cell_type": "code",
   "execution_count": 41,
   "metadata": {},
   "outputs": [
    {
     "name": "stderr",
     "output_type": "stream",
     "text": [
      "[Parallel(n_jobs=1)]: Using backend SequentialBackend with 1 concurrent workers.\n",
      "[Parallel(n_jobs=1)]: Done 800 out of 800 | elapsed:   38.8s finished\n",
      "[Parallel(n_jobs=1)]: Using backend SequentialBackend with 1 concurrent workers.\n",
      "[Parallel(n_jobs=1)]: Done 800 out of 800 | elapsed:    0.5s finished\n"
     ]
    }
   ],
   "source": [
    "rf = RandomForestClassifier(max_depth=25, n_estimators=800, max_features=5, verbose=1)\n",
    "rf.fit(X_train, y_train)\n",
    "y_pred = rf.predict(X_test)"
   ]
  },
  {
   "cell_type": "code",
   "execution_count": 42,
   "metadata": {},
   "outputs": [
    {
     "data": {
      "text/plain": [
       "0.22482131254061077"
      ]
     },
     "execution_count": 42,
     "metadata": {},
     "output_type": "execute_result"
    }
   ],
   "source": [
    "error_rate(y_test, y_pred)"
   ]
  },
  {
   "cell_type": "code",
   "execution_count": null,
   "metadata": {},
   "outputs": [],
   "source": [
    "print(classification_report(y_test, y_pred))"
   ]
  },
  {
   "cell_type": "code",
   "execution_count": null,
   "metadata": {},
   "outputs": [],
   "source": [
    "cms = confusion_matrix(y_test, y_pred)"
   ]
  },
  {
   "cell_type": "code",
   "execution_count": null,
   "metadata": {},
   "outputs": [],
   "source": [
    "test_score = np.trace(cms) / np.sum(cms)"
   ]
  },
  {
   "cell_type": "code",
   "execution_count": null,
   "metadata": {},
   "outputs": [],
   "source": [
    "new_cms = np.zeros((7,7))\n",
    "for x in range(7):\n",
    "    for y in range(7):\n",
    "        new_cms[x,y] = cms[x,y] / np.sum(cms[x])"
   ]
  },
  {
   "cell_type": "code",
   "execution_count": null,
   "metadata": {},
   "outputs": [],
   "source": [
    "fig = plt.figure(figsize=(9, 9))\n",
    "n_classes = 7\n",
    "ax = fig.add_subplot(111)\n",
    "im = ax.imshow(np.transpose(new_cms), interpolation=\"nearest\", cmap=\"cool\")\n",
    "rows = cms.shape[0]\n",
    "cols = cms.shape[1]\n",
    "for x in range(0, rows):\n",
    "    for y in range(0, cols):\n",
    "        #value = int(cms[x, y])\n",
    "        value = round(cms[x,y] / np.sum(cms[x])*100,1)\n",
    "        ax.text(x, y, value, color=\"black\", ha=\"center\", va=\"center\", fontsize=20)\n",
    "plt.title(\"Real vs predicted data, accuracy: \" + str(np.around(test_score*100, 1)) + \"%\", fontsize=20)\n",
    "#plt.colorbar(im)\n",
    "\n",
    "classes_values = []\n",
    "#classes_labels = [\"Noise\", \"SN he3pt5 model\", \"SN s18 model\"]\n",
    "classes_labels = classes\n",
    "\n",
    "for n in range(n_classes):\n",
    "    classes_values.append(n)\n",
    "    #classes_labels.append(str(n))\n",
    "\n",
    "#plt.xticks([0, 1, 2, 3, 4], [\"0\", \"1\", \"2\", \"3\", \"4\"], rotation=45, fontsize=25)\n",
    "#plt.yticks([0, 1, 2, 3, 4], [\"0\", \"1\", \"2\", \"3\", \"4\"], fontsize=25)\n",
    "plt.xticks(classes_values, classes_labels, rotation=45, fontsize=15)\n",
    "plt.yticks(classes_values, classes_labels, fontsize=15)\n",
    "plt.xlabel(\"Real data\", fontsize=15)\n",
    "plt.ylabel(\"Predicted data\", fontsize=15)"
   ]
  },
  {
   "cell_type": "code",
   "execution_count": null,
   "metadata": {},
   "outputs": [],
   "source": [
    "df_submission = pd.read_pickle('./data/df_submission.pkl.gzip', compression='gzip')"
   ]
  },
  {
   "cell_type": "code",
   "execution_count": null,
   "metadata": {},
   "outputs": [],
   "source": [
    "trace_id = df_submission['trace_id'].values"
   ]
  },
  {
   "cell_type": "code",
   "execution_count": null,
   "metadata": {},
   "outputs": [],
   "source": [
    "meta_sub_E = np.zeros((df_submission.shape[0], 5))\n",
    "psd_sub_E = np.zeros((df_submission.shape[0], 513))\n",
    "i = 0\n",
    "for row, item in df_submission.iterrows():\n",
    "    sample_E = item['E']\n",
    "    meta, psd, _ = get_meta(sample_E)\n",
    "    meta_sub_E[i] = meta\n",
    "    psd_sub_E[i] = psd\n",
    "    i += 1"
   ]
  },
  {
   "cell_type": "code",
   "execution_count": null,
   "metadata": {},
   "outputs": [],
   "source": [
    "meta_sub_N = np.zeros((df_submission.shape[0], 5))\n",
    "psd_sub_N = np.zeros((df_submission.shape[0], 513))\n",
    "i = 0\n",
    "for row, item in df_submission.iterrows():\n",
    "    sample_N = item['N']\n",
    "    meta, psd, _ = get_meta(sample_N)\n",
    "    meta_sub_N[i] = meta\n",
    "    psd_sub_N[i] = psd\n",
    "    i += 1"
   ]
  },
  {
   "cell_type": "code",
   "execution_count": null,
   "metadata": {},
   "outputs": [],
   "source": [
    "meta_sub_Z = np.zeros((df_submission.shape[0], 5))\n",
    "psd_sub_Z = np.zeros((df_submission.shape[0], 513))\n",
    "i = 0\n",
    "for row, item in df_submission.iterrows():\n",
    "    sample_Z = item['Z']\n",
    "    meta, psd, _ = get_meta(sample_Z)\n",
    "    meta_sub_Z[i] = meta\n",
    "    psd_sub_Z[i] = psd\n",
    "    i += 1"
   ]
  },
  {
   "cell_type": "code",
   "execution_count": null,
   "metadata": {},
   "outputs": [],
   "source": [
    "df_submission = df_submission.drop(['trace_id','E','N','Z','source_origin_time'],axis=1).dropna()"
   ]
  },
  {
   "cell_type": "code",
   "execution_count": null,
   "metadata": {},
   "outputs": [],
   "source": [
    "X_test_sub = np.hstack((df_submission[columns].values, meta_sub_E, meta_sub_N, meta_sub_Z))"
   ]
  },
  {
   "cell_type": "code",
   "execution_count": null,
   "metadata": {},
   "outputs": [],
   "source": [
    "X_test_sub = (X_test_sub - min_scalers) / (max_scalers - min_scalers)"
   ]
  },
  {
   "cell_type": "code",
   "execution_count": null,
   "metadata": {},
   "outputs": [],
   "source": [
    "y_pred_sb = rf.predict(X_test_sub)"
   ]
  },
  {
   "cell_type": "code",
   "execution_count": null,
   "metadata": {},
   "outputs": [],
   "source": [
    "df_submit = pd.DataFrame({'trace_id' : trace_id,\n",
    "                          'submission' : y_pred_sb})"
   ]
  },
  {
   "cell_type": "code",
   "execution_count": null,
   "metadata": {},
   "outputs": [],
   "source": [
    "df_submit.head()"
   ]
  },
  {
   "cell_type": "code",
   "execution_count": null,
   "metadata": {},
   "outputs": [],
   "source": [
    "df_submit.to_csv('./fm_ENZmeta_submission.csv',index=False)"
   ]
  },
  {
   "cell_type": "code",
   "execution_count": null,
   "metadata": {},
   "outputs": [],
   "source": []
  }
 ],
 "metadata": {
  "kernelspec": {
   "display_name": "Python 3",
   "language": "python",
   "name": "python3"
  },
  "language_info": {
   "codemirror_mode": {
    "name": "ipython",
    "version": 3
   },
   "file_extension": ".py",
   "mimetype": "text/x-python",
   "name": "python",
   "nbconvert_exporter": "python",
   "pygments_lexer": "ipython3",
   "version": "3.6.7"
  }
 },
 "nbformat": 4,
 "nbformat_minor": 4
}
