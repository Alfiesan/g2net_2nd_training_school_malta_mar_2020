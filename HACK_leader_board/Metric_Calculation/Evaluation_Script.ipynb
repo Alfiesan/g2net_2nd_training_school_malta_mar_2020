{
 "cells": [
  {
   "cell_type": "code",
   "execution_count": 1,
   "metadata": {},
   "outputs": [],
   "source": [
    "import random\n",
    "import pandas as pd\n",
    "from sklearn.metrics import balanced_accuracy_score, precision_score, recall_score, f1_score"
   ]
  },
  {
   "cell_type": "code",
   "execution_count": 19,
   "metadata": {},
   "outputs": [],
   "source": [
    "def evaluate( user_submission_file,true_submission = 'data/submissions_true.csv', phase_codename = 'EVALUATE'):\n",
    "#     print(\"Starting Evaluation.....\")\n",
    "#     print('Executing ', phase_codename)\n",
    "#     print('Loading data')\n",
    "#     print('load true data')\n",
    "    df_true = pd.read_csv(true_submission)\n",
    "    df_true['trace_id'] = df_true['trace_id'].apply(lambda x: int(str(x).replace('trace_','')))\n",
    "#     print(df_true.head(20))\n",
    "\n",
    "#     print('load user data')\n",
    "    df_user = pd.read_csv(user_submission_file)\n",
    "    df_user['trace_id'] = df_user['trace_id'].apply(lambda x: int(str(x).replace('trace_','')))\n",
    "#     print(df_user.head(20))\n",
    "\n",
    "#     print('Merge data')\n",
    "    df_merge = pd.merge(left=df_true, right=df_user, left_on='trace_id', right_on='trace_id', how='left')\n",
    "#     print(df_merge.head(20))\n",
    "#     print('y_true')\n",
    "    y_true = df_merge['true_label']\n",
    "#     print('y_pred')\n",
    "    y_pred = df_merge['submission']\n",
    "\n",
    "    output = {}\n",
    "#     print(\"Evaluating metrics\")\n",
    "    output[\"result\"] = [\n",
    "        {\n",
    "            \"train_split\": {\n",
    "                \"Precision\": precision_score(y_true, y_pred, average='weighted'),\n",
    "                \"Recall\": recall_score(y_true, y_pred, average='weighted'),\n",
    "                \"f1-Score\": f1_score(y_true, y_pred, average='weighted'),\n",
    "                \"Balanced Accuracy\": balanced_accuracy_score(y_true, y_pred)\n",
    "            }\n",
    "        }\n",
    "    ]\n",
    "    # To display the results in the result file\n",
    "    output[\"submission_result\"] = output[\"result\"][0][\"train_split\"]\n",
    "#     print(\"Completed evaluation \")\n",
    "    return output['result'][0]['train_split']"
   ]
  },
  {
   "cell_type": "markdown",
   "metadata": {},
   "source": [
    "# Baseline"
   ]
  },
  {
   "cell_type": "code",
   "execution_count": 23,
   "metadata": {},
   "outputs": [
    {
     "data": {
      "text/plain": [
       "{'Precision': 0.7245476045255589,\n",
       " 'Recall': 0.7240968449146887,\n",
       " 'f1-Score': 0.7234004336579665,\n",
       " 'Balanced Accuracy': 0.7241070955796992}"
      ]
     },
     "execution_count": 23,
     "metadata": {},
     "output_type": "execute_result"
    }
   ],
   "source": [
    "evaluate('data/99_ML_Random_Forest_Baseline_Prediction.csv')"
   ]
  },
  {
   "cell_type": "markdown",
   "metadata": {},
   "source": [
    "# Submission"
   ]
  },
  {
   "cell_type": "code",
   "execution_count": 22,
   "metadata": {},
   "outputs": [
    {
     "data": {
      "text/plain": [
       "{'Precision': 0.8154433420087579,\n",
       " 'Recall': 0.8150319321323038,\n",
       " 'f1-Score': 0.8151738792481023,\n",
       " 'Balanced Accuracy': 0.8150447029471525}"
      ]
     },
     "execution_count": 22,
     "metadata": {},
     "output_type": "execute_result"
    }
   ],
   "source": [
    "evaluate('submissions/Ondrej_your_submission.csv')"
   ]
  },
  {
   "cell_type": "code",
   "execution_count": 24,
   "metadata": {},
   "outputs": [
    {
     "data": {
      "text/plain": [
       "{'Precision': 0.7540886473235344,\n",
       " 'Recall': 0.7562672767133733,\n",
       " 'f1-Score': 0.7548256958933404,\n",
       " 'Balanced Accuracy': 0.756279926107749}"
      ]
     },
     "execution_count": 24,
     "metadata": {},
     "output_type": "execute_result"
    }
   ],
   "source": [
    "evaluate('submissions/CZ_99_ML_v2_02_Augment.csv')"
   ]
  },
  {
   "cell_type": "code",
   "execution_count": 25,
   "metadata": {},
   "outputs": [
    {
     "data": {
      "text/plain": [
       "{'Precision': 0.6010253118803498,\n",
       " 'Recall': 0.6016585644838433,\n",
       " 'f1-Score': 0.5990282212383442,\n",
       " 'Balanced Accuracy': 0.6016665589372209}"
      ]
     },
     "execution_count": 25,
     "metadata": {},
     "output_type": "execute_result"
    }
   ],
   "source": [
    "evaluate('submissions/Earth_hackaton_submission_RF.csv')"
   ]
  },
  {
   "cell_type": "code",
   "execution_count": 26,
   "metadata": {},
   "outputs": [
    {
     "name": "stderr",
     "output_type": "stream",
     "text": [
      "/Users/christopher.zerafa/opt/anaconda3/lib/python3.7/site-packages/sklearn/metrics/classification.py:1439: UndefinedMetricWarning: Recall is ill-defined and being set to 0.0 in labels with no true samples.\n",
      "  'recall', 'true', average, warn_for)\n",
      "/Users/christopher.zerafa/opt/anaconda3/lib/python3.7/site-packages/sklearn/metrics/classification.py:1439: UndefinedMetricWarning: F-score is ill-defined and being set to 0.0 in labels with no true samples.\n",
      "  'recall', 'true', average, warn_for)\n",
      "/Users/christopher.zerafa/opt/anaconda3/lib/python3.7/site-packages/sklearn/metrics/classification.py:1745: UserWarning: y_pred contains classes not in y_true\n",
      "  warnings.warn('y_pred contains classes not in y_true')\n"
     ]
    },
    {
     "data": {
      "text/plain": [
       "{'Precision': 0.1464222925526514,\n",
       " 'Recall': 0.1281574683061672,\n",
       " 'f1-Score': 0.13667404097893188,\n",
       " 'Balanced Accuracy': 0.12815850112393187}"
      ]
     },
     "execution_count": 26,
     "metadata": {},
     "output_type": "execute_result"
    }
   ],
   "source": [
    "evaluate('submissions/Jose_MOLL_your_submission.csv')"
   ]
  },
  {
   "cell_type": "code",
   "execution_count": null,
   "metadata": {},
   "outputs": [],
   "source": []
  }
 ],
 "metadata": {
  "kernelspec": {
   "display_name": "Python 3",
   "language": "python",
   "name": "python3"
  },
  "language_info": {
   "codemirror_mode": {
    "name": "ipython",
    "version": 3
   },
   "file_extension": ".py",
   "mimetype": "text/x-python",
   "name": "python",
   "nbconvert_exporter": "python",
   "pygments_lexer": "ipython3",
   "version": "3.7.4"
  },
  "toc": {
   "base_numbering": 1,
   "nav_menu": {},
   "number_sections": true,
   "sideBar": true,
   "skip_h1_title": false,
   "title_cell": "Table of Contents",
   "title_sidebar": "Contents",
   "toc_cell": false,
   "toc_position": {},
   "toc_section_display": true,
   "toc_window_display": false
  }
 },
 "nbformat": 4,
 "nbformat_minor": 2
}
